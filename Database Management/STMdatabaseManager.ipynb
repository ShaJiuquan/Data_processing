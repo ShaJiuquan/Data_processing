{
 "cells": [
  {
   "cell_type": "code",
   "execution_count": 1,
   "metadata": {},
   "outputs": [],
   "source": [
    "from STMdatabase import STMdatabase as database\n",
    "from STMdatabase import STMimage\n",
    "from os.path import join"
   ]
  },
  {
   "cell_type": "code",
   "execution_count": 2,
   "metadata": {},
   "outputs": [],
   "source": [
    "mydatabse=database(\"STMdata.db\")\n"
   ]
  },
  {
   "cell_type": "code",
   "execution_count": null,
   "metadata": {},
   "outputs": [],
   "source": [
    "mydatabse.creat_all_table()"
   ]
  },
  {
   "cell_type": "code",
   "execution_count": 3,
   "metadata": {},
   "outputs": [
    {
     "name": "stdout",
     "output_type": "stream",
     "text": [
      "SUCCESS---------INSERT INTO STMSpecValue(Info_ID,List_ID,TIME_STAMP,Bias,Current_forward,Current_backward,LIY_1_omega_forward,LIY_1_omega_backward) VALUES(?,?,?,?,?,?,?,?)\n",
      "Insert table is successed\n",
      "SUCCESS---------INSERT INTO STMGridInfo(List_ID,TIME_STAMP,Grid_dim,Grid_settings,Filetype,Sweep_Signal,Fixed_parameters,Experiment_parameters,Parameters, Experiment_size,Points,Channels,Delay,Experiment,Start_time,End_time,User,comment,Current,Calibration,Offset,Gain) VALUES(?,?,?,?,?,?,?,?,?,?,?,?,?,?,?,?,?,?,?,?,?,?)\n",
      "Insert table is successed\n",
      "SUCCESS---------INSERT INTO STMGridValue(Info_ID,List_ID,TIME_STAMP,Para,Current,Bias,LIX_1_omega ,LIY_1_omega ) VALUES(?,?,?,?,?,?,?,?)\n",
      "Insert table is successed\n",
      "SUCCESS---------INSERT INTO STMimageInfo(List_ID,TIME_STAMP,NANONIS_VERSION,REC_DATE,REC_TIME,REC_TEMP,ACQ_TIME,SCAN_PIXELS,SCAN_FILE,SCAN_TIME,SCAN_RANGE,SCAN_OFFSET,SCAN_ANGLE,SCAN_DIR,BIAS,Z_CONTROLLER,COMMENT,Session_Path,SW_Version,UI_Release,RT_Release,RT_Frequency,Signals_Oversampling,Animations_Period,Indicators_Period,Measurements_Period,DATA_INFO) VALUES(?,?,?,?,?,?,?,?,?,?,?,?,?,?,?,?,?,?,?,?,?,?,?,?,?,?,?)\n",
      "Insert table is successed\n",
      "SUCCESS---------INSERT INTO STMimageValue(Info_ID,List_ID,TIME_STAMP,Z_forward,Z_backward,Current_forward,LIY_1_omega_forward,LIY_1_omega_backward) VALUES(?,?,?,?,?,?,?,?)\n",
      "Insert table is successed\n",
      "SUCCESS---------INSERT INTO STMSpecInfo(List_ID,TIME_STAMP,Date,User,X_m,Y_m,Z_m,Z_offset,Settling_time,Integration_time,Z_Ctrl_hold,Final_Z,Filter_type,Filter_Order,Cut_off,comment) VALUES(?,?,?,?,?,?,?,?,?,?,?,?,?,?,?,?)\n",
      "Insert table is successed\n",
      "SUCCESS---------INSERT INTO STMdataLists(Name,TimeStamp,UpdateFilePath,Date,Time,Bias_V,Current_pA,Type,PosX_nm,PosY_nm) VALUES(?,?,?,?,?,?,?,?,?,?)\n",
      "Insert table is successed\n"
     ]
    }
   ],
   "source": [
    "mydatabse.insert_specValue_table()\n",
    "mydatabse.insert_gridInfo_table()\n",
    "mydatabse.insert_gridValue_table()\n",
    "mydatabse.insert_imageInfo_table()\n",
    "mydatabse.insert_imageValue_table()\n",
    "mydatabse.insert_specInfo_table()\n",
    "\n",
    "\n",
    "\n",
    "mydatabse.insert_list_table(STMdateList={\"Name\":\"SiC001\",\"TimeStamp\":20.0,\"UpdateFilePath\":\"\",\"Date\":'24.02.2023',\"Time\":'09:09:29',\"Bias_V\": 2.5,\"Current_pA\": 30,\"Type\":\"SXM\",\"PosX_nm\":328,\"PosY_nm\":328})"
   ]
  },
  {
   "cell_type": "code",
   "execution_count": 3,
   "metadata": {},
   "outputs": [
    {
     "name": "stdout",
     "output_type": "stream",
     "text": [
      "{'Name': 'SiC001', 'TimeStamp': 1668845371.0, 'UpdateFilePath': '', 'Date': '19.11.2022', 'Time': '19:09:31', 'Bias_V': -1.22, 'Current_pA': 50.0, 'Type': 'SXM', 'PosX_nm': 594.511, 'PosY_nm': -512.61}\n",
      "filetype and file, sxm ['', '', '/', '', '/', '', '/STMdata/20221116/SiC025', 'sxm'] ['', 'STMdata', '20221116', 'SiC025']\n",
      "{'Name': 'SiC001', 'TimeStamp': 1668845371.0, 'UpdateFilePath': '../../../STMdata/20221116/SiC025.sxm', 'Date': '19.11.2022', 'Time': '19:09:31', 'Bias_V': -1.22, 'Current_pA': 50.0, 'Type': 'SXM', 'PosX_nm': 594.511, 'PosY_nm': -512.61}\n",
      "SiC025 sxm\n",
      "{'Name': 'SiC025', 'TimeStamp': 1668845371.0, 'UpdateFilePath': '../../../STMdata/20221116/SiC025.sxm', 'Date': '19.11.2022', 'Time': '19:09:31', 'Bias_V': -1.22, 'Current_pA': 50.0, 'Type': 'sxm', 'PosX_nm': 594.511, 'PosY_nm': -512.61}\n",
      "The execute of get_data_list_pare\n",
      "SUCCESS---------INSERT INTO STMdataLists(Name,TimeStamp,UpdateFilePath,Date,Time,Bias_V,Current_pA,Type,PosX_nm,PosY_nm) VALUES(?,?,?,?,?,?,?,?,?,?)\n",
      "Insert table is successed\n",
      "{'Name': 'SiC025', 'TimeStamp': 1668845371.0, 'UpdateFilePath': '../../../STMdata/20221116/SiC025.sxm', 'Date': '19.11.2022', 'Time': '19:09:31', 'Bias_V': -1.22, 'Current_pA': 50.0, 'Type': 'sxm', 'PosX_nm': 594.511, 'PosY_nm': -512.61}\n"
     ]
    }
   ],
   "source": [
    "myDir=\"../../../STMdata\"\n",
    "myFolder=\"20221116\"\n",
    "myfileNane=\"SiC025.sxm\"\n",
    "filePath=join(myDir,myFolder,myfileNane)\n",
    "\n",
    "myImage=STMimage(filePath=filePath)\n",
    "STM_image_List=myImage.get_data_list()\n",
    "mydatabse.insert_list_table(STMdateList=STM_image_List)\n",
    "print(STM_image_List)"
   ]
  }
 ],
 "metadata": {
  "kernelspec": {
   "display_name": "Python 3",
   "language": "python",
   "name": "python3"
  },
  "language_info": {
   "codemirror_mode": {
    "name": "ipython",
    "version": 3
   },
   "file_extension": ".py",
   "mimetype": "text/x-python",
   "name": "python",
   "nbconvert_exporter": "python",
   "pygments_lexer": "ipython3",
   "version": "3.11.2"
  },
  "orig_nbformat": 4
 },
 "nbformat": 4,
 "nbformat_minor": 2
}
