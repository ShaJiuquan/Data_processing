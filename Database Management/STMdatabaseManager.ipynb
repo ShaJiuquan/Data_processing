{
 "cells": [
  {
   "cell_type": "code",
   "execution_count": 1,
   "metadata": {},
   "outputs": [],
   "source": [
    "from STMdatabase import STMdatabase as database\n",
    "from STMdatabase import STMimage,STMspec,STMgrid\n",
    "from os.path import join"
   ]
  },
  {
   "cell_type": "code",
   "execution_count": 2,
   "metadata": {},
   "outputs": [],
   "source": [
    "mydatabse=database(\"STMdata.db\")"
   ]
  },
  {
   "cell_type": "code",
   "execution_count": 3,
   "metadata": {},
   "outputs": [
    {
     "name": "stdout",
     "output_type": "stream",
     "text": [
      "SUCCESS---------DROP TABLE IF EXISTS STMdataLists\n",
      "STMdataLists table is droped\n",
      "SUCCESS--------- CREATE TABLE IF NOT EXISTS STMdataLists (\n",
      "                                        List_ID   INTEGER PRIMARY KEY AUTOINCREMENT,\n",
      "                                        Name TEXT NOT NULL,\n",
      "                                        TimeStamp REAL,\n",
      "                                        UpdateFilePath TEXT,\n",
      "                                        Date TEXT NOT NULL,\n",
      "                                        Time TEXT NOT NULL,\n",
      "                                        Bias_V REAL NOT NULL,\n",
      "                                        Current_pA REAL NOT NULL,\n",
      "                                        Type TEXT NOT NULL,\n",
      "                                        PosX_nm  REAL NOT NULL, \n",
      "                                        PosY_nm REAL NOT NULL\n",
      "                                    ) \n",
      "STMdataLists table is created\n",
      "SUCCESS---------DROP TABLE IF EXISTS STMimageInfo\n",
      "STMimageInfo table is droped\n",
      "SUCCESS--------- \n",
      "                                CREATE TABLE STMimageInfo(\n",
      "                                Info_ID INTEGER PRIMARY KEY AUTOINCREMENT,\n",
      "                                List_ID INTEGER,\n",
      "                                TIME_STAMP  REAL,\n",
      "                                NANONIS_VERSION TEXT,\n",
      "                                SCANIT_TYPE TEXT,\n",
      "                                REC_DATE TEXT,\n",
      "                                REC_TIME TEXT,\n",
      "                                REC_TEMP TEXT,\n",
      "                                ACQ_TIME TEXT,\n",
      "                                SCAN_PIXELS TEXT,\n",
      "                                SCAN_FILE TEXT,\n",
      "                                SCAN_TIME TEXT,\n",
      "                                SCAN_RANGE TEXT,\n",
      "                                SCAN_OFFSET TEXT,\n",
      "                                SCAN_ANGLE TEXT,\n",
      "                                SCAN_DIR TEXT,\n",
      "                                BIAS TEXT,\n",
      "                                Z_CONTROLLER TEXT,\n",
      "                                COMMENT TEXT,\n",
      "                                Session_Path TEXT,\n",
      "                                SW_Version TEXT,\n",
      "                                UI_Release TEXT,\n",
      "                                RT_Release TEXT,\n",
      "                                RT_Frequency TEXT,\n",
      "                                Signals_Oversampling TEXT,\n",
      "                                Animations_Period TEXT,\n",
      "                                Indicators_Period TEXT,\n",
      "                                Measurements_Period  TEXT,\n",
      "                                DATA_INFO TEXT, \n",
      "                                FOREIGN KEY (List_ID) \n",
      "                                    REFERENCES STMdataLists (List_ID) \n",
      "                                        ON DELETE CASCADE \n",
      "                                        ON UPDATE NO ACTION\n",
      "\n",
      "                                ); \n",
      "STMimageInfo table is created\n",
      "SUCCESS---------DROP TABLE IF EXISTS STMimageValue\n",
      "STMimageValue table is droped\n",
      "SUCCESS--------- CREATE TABLE IF NOT EXISTS STMimageValue (\n",
      "                                        Data_ID   INTEGER PRIMARY KEY AUTOINCREMENT,\n",
      "                                        Info_ID INTEGER,\n",
      "                                        List_ID INTEGER,\n",
      "                                        TIME_STAMP  REAL,\n",
      "                                        \n",
      "                                        Z_forward   BLOB,\n",
      "                                        Z_backward   BLOB,\n",
      "                                        Current_forward   BLOB,\n",
      "                                        Current_backward   BLOB,\n",
      "                                        LIY_1_omega_forward   BLOB,\n",
      "                                        LIY_1_omega_backward   BLOB,\n",
      "                                        FOREIGN KEY (List_ID) \n",
      "                                            REFERENCES STMimageInfo (List_ID) \n",
      "                                                ON DELETE CASCADE \n",
      "                                                ON UPDATE NO ACTION\n",
      "                                                \n",
      "                                                \n",
      "                                        FOREIGN KEY (Info_ID) \n",
      "                                            REFERENCES STMimageInfo(Info_ID) \n",
      "                                                ON DELETE CASCADE \n",
      "                                                ON UPDATE NO ACTION\n",
      "\n",
      "                                        );\n",
      "                                     \n",
      "STMimageValue table is created\n",
      "SUCCESS---------DROP TABLE IF EXISTS STMSpecInfo\n",
      "STMSpecInfo table is droped\n",
      "SUCCESS--------- CREATE TABLE IF NOT EXISTS STMSpecInfo (\n",
      "                                        Info_ID INTEGER PRIMARY KEY AUTOINCREMENT,\n",
      "                                        List_ID INTEGER,\n",
      "                                        TIME_STAMP  REAL,\n",
      "                                        Date TEXT,\n",
      "                                        User TEXT,\n",
      "                                        X_m TEXT,\n",
      "                                        Y_m TEXT,\n",
      "                                        Z_m TEXT,\n",
      "                                        Z_offset TEXT,\n",
      "                                        Settling_time TEXT,\n",
      "                                        Integration_time TEXT,\n",
      "                                        Z_Ctrl_hold TEXT,\n",
      "                                        Final_Z TEXT,\n",
      "                                        Filter_type TEXT,\n",
      "                                        Filter_order TEXT,\n",
      "                                        Cut_off TEXT,\n",
      "                                        Comment TEXT,\n",
      "                                        FOREIGN KEY (List_ID) \n",
      "                                        REFERENCES STMdataLists (List_ID) \n",
      "                                            ON DELETE CASCADE \n",
      "                                            ON UPDATE NO ACTION\n",
      "          \n",
      "                                    ); \n",
      "STMSpecInfo table is created\n",
      "SUCCESS---------DROP TABLE IF EXISTS STMSpecValue\n",
      "STMSpecValue table is droped\n",
      "SUCCESS--------- CREATE TABLE IF NOT EXISTS STMSpecValue (\n",
      "                                        Data_ID   INTEGER PRIMARY KEY AUTOINCREMENT,\n",
      "                                        Info_ID INTEGER,\n",
      "                                        List_ID INTEGER,\n",
      "                                        TIME_STAMP  REAL,\n",
      "                                        Bias  BLOB,\n",
      "                                        Current_forward   BLOB,\n",
      "                                        Current_backward   BLOB,\n",
      "                                        LIY_1_omega_forward   BLOB,\n",
      "                                        LIY_1_omega_backward   BLOB,\n",
      "                                        FOREIGN KEY (List_ID) \n",
      "                                            REFERENCES STMSpecInfo (List_ID) \n",
      "                                                ON DELETE CASCADE \n",
      "                                                ON UPDATE NO ACTION    \n",
      "                                        FOREIGN KEY (Info_ID) \n",
      "                                            REFERENCES STMSpecInfo(Info_ID) \n",
      "                                                ON DELETE CASCADE \n",
      "                                                ON UPDATE NO ACTION\n",
      "                                        );\n",
      "                                     \n",
      "STMSpecValue table is created\n",
      "SUCCESS---------DROP TABLE IF EXISTS STMGridInfo\n",
      "STMGridInfo table is droped\n",
      "SUCCESS--------- CREATE TABLE IF NOT EXISTS STMGridInfo (\n",
      "                                        Info_ID INTEGER PRIMARY KEY AUTOINCREMENT,\n",
      "                                        List_ID INTEGER,\n",
      "                                        TIME_STAMP  REAL,\n",
      "                                        Grid_dim TEXT,\n",
      "                                        Grid_settings TEXT,\n",
      "                                        Filetype TEXT,\n",
      "                                        Sweep_Signal TEXT,\n",
      "                                        Fixed_parameters TEXT,\n",
      "                                        Experiment_parameters TEXT,\n",
      "                                        Parameters TEXT,\n",
      "                                        Experiment_size TEXT,\n",
      "                                        Points TEXT,\n",
      "                                        Channels TEXT,\n",
      "                                        Delay TEXT,\n",
      "                                        Experiment TEXT,\n",
      "                                        Start_time TEXT,\n",
      "                                        End_time TEXT,\n",
      "                                        User TEXT,\n",
      "                                        Comment TEXT,\n",
      "                                        Current TEXT,\n",
      "                                        Calibration TEXT,\n",
      "                                        Offset TEXT,\n",
      "                                        Gain TEXT,\n",
      "                                        FOREIGN KEY (List_ID) \n",
      "                                        REFERENCES STMdataLists (List_ID) \n",
      "                                            ON DELETE CASCADE \n",
      "                                            ON UPDATE NO ACTION                                      \n",
      "                                    ); \n",
      "STMGridInfo table is created\n",
      "SUCCESS---------DROP TABLE IF EXISTS STMGridValue\n",
      "STMGridValue table is droped\n",
      "SUCCESS--------- CREATE TABLE IF NOT EXISTS STMGridValue (\n",
      "\n",
      "                                        Data_ID   INTEGER PRIMARY KEY AUTOINCREMENT,\n",
      "                                        Info_ID INTEGER,\n",
      "                                        List_ID INTEGER,\n",
      "                                        TIME_STAMP  REAL,\n",
      "                                        Para   BLOB,\n",
      "                                        Current   BLOB,\n",
      "                                        Bias   BLOB,\n",
      "                                        LIX_1_omega   BLOB,\n",
      "                                        LIY_1_omega   BLOB,\n",
      "                                        FOREIGN KEY (List_ID) \n",
      "                                            REFERENCES STMGridInfo (List_ID) \n",
      "                                                ON DELETE CASCADE \n",
      "                                                ON UPDATE NO ACTION         \n",
      "                                        FOREIGN KEY (Info_ID) \n",
      "                                            REFERENCES STMGridInfo(Info_ID) \n",
      "                                                ON DELETE CASCADE \n",
      "                                                ON UPDATE NO ACTION\n",
      "\n",
      "                                        );\n",
      "                                     \n",
      "STMGridValue table is created\n"
     ]
    }
   ],
   "source": [
    "mydatabse.creat_all_table()"
   ]
  },
  {
   "cell_type": "code",
   "execution_count": 4,
   "metadata": {},
   "outputs": [
    {
     "name": "stdout",
     "output_type": "stream",
     "text": [
      "SUCCESS---------INSERT INTO STMdataLists(Name,TimeStamp,UpdateFilePath,Date,Time,Bias_V,Current_pA,Type,PosX_nm,PosY_nm) VALUES(?,?,?,?,?,?,?,?,?,?) ['SiC028', 1668913007.0, '../../../STMdata/20221116/SiC028.sxm', '20.11.2022', '13:56:47', -1.4, 80.0, 'sxm', 574.348, -577.607]\n",
      "Insert table is successed\n"
     ]
    }
   ],
   "source": [
    "myDir=\"../../../STMdata\"\n",
    "myFolder=\"20221116\"\n",
    "myfileNane=\"SiC028.sxm\"\n",
    "filePath=join(myDir,myFolder,myfileNane)\n",
    "myImage=STMimage(filePath=filePath)\n",
    "STM_image_List=myImage.get_data_list()\n",
    "mydatabse.insert_list_table(STMdateList=STM_image_List)"
   ]
  },
  {
   "cell_type": "code",
   "execution_count": 5,
   "metadata": {},
   "outputs": [
    {
     "name": "stdout",
     "output_type": "stream",
     "text": [
      "SUCCESS---------SELECT List_ID FROM STMdataLists WHERE UpdateFilePath='../../../STMdata/20221116/SiC028.sxm'\n",
      "SUCCESS---------SELECT TimeStamp FROM STMdataLists WHERE UpdateFilePath='../../../STMdata/20221116/SiC028.sxm'\n",
      "SUCCESS---------INSERT INTO STMimageInfo(List_ID,TIME_STAMP,NANONIS_VERSION,SCANIT_TYPE,REC_DATE,REC_TIME,REC_TEMP,ACQ_TIME,SCAN_PIXELS,SCAN_FILE,SCAN_TIME,SCAN_RANGE,SCAN_OFFSET,SCAN_ANGLE,SCAN_DIR,BIAS,Z_CONTROLLER,COMMENT,Session_Path,SW_Version,UI_Release,RT_Release,RT_Frequency,Signals_Oversampling,Animations_Period,Indicators_Period,Measurements_Period,DATA_INFO) VALUES(?,?,?,?,?,?,?,?,?,?,?,?,?,?,?,?,?,?,?,?,?,?,?,?,?,?,?,?) [1, 1668913007.0, '2', 'FLOAT MSBFIRST', '20.11.2022', '13:56:47', '290.0000000000', '1153.9', '512 512', 'C:\\\\STM data\\\\20221116\\\\SiC028.sxm', '1.126E+0 1.126E+0', '2.000000E-7 2.000000E-7', '5.743477E-7 -5.776071E-7', '0.000E+0', 'down', '-1.400E+0', 'Name on Setpoint P-gain I-gain T-const log Current 1 8.000E-11 A 6.500E-11 m 5.500E-8 m/s 1.182E-3 s', 'SXM', 'C:\\\\STM data\\\\20221116', 'Generic 4', '11412', '8987', '10E+3', '10', '20E-3', '300E-3', '500E-3', 'Channel Name Unit Direction Calibration Offset 14 Z m both 3.220E-8 0.000E+0 0 Current A both 1.000E-9 0.000E+0 20 LIX_1_omega A both 1.000E+0 0.000E+0 21 LIY_1_omega A both 1.000E+0 0.000E+0']\n",
      "Insert table is successed\n"
     ]
    }
   ],
   "source": [
    "imageInfo=myImage.get_data_info()\n",
    "mydatabse.insert_imageInfo_table(STMdateList=imageInfo)"
   ]
  },
  {
   "cell_type": "code",
   "execution_count": 6,
   "metadata": {},
   "outputs": [
    {
     "name": "stdout",
     "output_type": "stream",
     "text": [
      "SUCCESS---------SELECT List_ID FROM STMdataLists WHERE UpdateFilePath='../../../STMdata/20221116/SiC028.sxm'\n",
      "SUCCESS---------SELECT TimeStamp FROM STMdataLists WHERE UpdateFilePath='../../../STMdata/20221116/SiC028.sxm'\n",
      "SUCCESS---------SELECT List_ID FROM STMdataLists WHERE UpdateFilePath='../../../STMdata/20221116/SiC028.sxm'\n",
      "SUCCESS---------SELECT Info_ID FROM STMimageInfo WHERE List_ID='1'\n",
      "Z_forward\n",
      "Z_backward\n",
      "Current_forward\n",
      "Current_backward\n",
      "LIY_1_omega_forward\n",
      "LIY_1_omega_backward\n",
      "SUCCESS---------INSERT INTO STMimageValue(Info_ID,List_ID,TIME_STAMP,Z_forward,Z_backward,Current_forward,Current_backward,LIY_1_omega_forward,LIY_1_omega_backward) VALUES(?,?,?,?,?,?,?,?,?) [1, 1, 1668913007.0, <memory at 0x17633de40>, <memory at 0x17633e200>, <memory at 0x17633e140>, <memory at 0x17633e2c0>, <memory at 0x17633e440>, <memory at 0x17633e500>]\n",
      "Insert table is successed\n"
     ]
    }
   ],
   "source": [
    "imageValue=myImage.get_data_value()\n",
    "mydatabse.insert_imageValue_table(STMdateList=imageValue)"
   ]
  },
  {
   "cell_type": "code",
   "execution_count": 7,
   "metadata": {},
   "outputs": [],
   "source": [
    "myDir=\"../../../STMdata\"\n",
    "myFolder=\"20221116\"\n",
    "myfileNane=\"Bias-Spectroscopy014.dat\"\n",
    "filePath=join(myDir,myFolder,myfileNane)\n",
    "myspec=STMspec(filePath=filePath)"
   ]
  },
  {
   "cell_type": "code",
   "execution_count": 8,
   "metadata": {},
   "outputs": [
    {
     "name": "stdout",
     "output_type": "stream",
     "text": [
      "SUCCESS---------INSERT INTO STMdataLists(Name,TimeStamp,UpdateFilePath,Date,Time,Bias_V,Current_pA,Type,PosX_nm,PosY_nm) VALUES(?,?,?,?,?,?,?,?,?,?) ['Bias-Spectroscopy014', 1668567479.0, '../../../STMdata/20221116/Bias-Spectroscopy014.dat', '16.11.2022', '13:57:59', 1.5, 30.7, 'dat', -182.34, 454.246]\n",
      "Insert table is successed\n"
     ]
    }
   ],
   "source": [
    "STM_spec_List=myspec.get_data_list()\n",
    "mydatabse.insert_list_table(STMdateList=STM_spec_List)"
   ]
  },
  {
   "cell_type": "code",
   "execution_count": 9,
   "metadata": {},
   "outputs": [
    {
     "name": "stdout",
     "output_type": "stream",
     "text": [
      "SUCCESS---------SELECT List_ID FROM STMdataLists WHERE UpdateFilePath='../../../STMdata/20221116/Bias-Spectroscopy014.dat'\n",
      "SUCCESS---------SELECT TimeStamp FROM STMdataLists WHERE UpdateFilePath='../../../STMdata/20221116/Bias-Spectroscopy014.dat'\n",
      "SUCCESS---------INSERT INTO STMSpecInfo(List_ID,TIME_STAMP,Date,User,X_m,Y_m,Z_m,Z_offset,Settling_time,Integration_time,Z_Ctrl_hold,Final_Z,Filter_type,Filter_Order,Cut_off,comment) VALUES(?,?,?,?,?,?,?,?,?,?,?,?,?,?,?,?) [2, 1668567479.0, '16.11.2022 13:57:59', nan, '-182.34E-9', '454.246E-9', '-224.744E-9', '0E+0', '4E-3', '8E-3', 'TRUE', '-225.892E-9', 'Gaussian', '1', nan, 'SiC']\n",
      "Insert table is successed\n"
     ]
    }
   ],
   "source": [
    "STM_specInfo=myspec.get_data_info()\n",
    "mydatabse.insert_specInfo_table(STMdateList=STM_specInfo)"
   ]
  },
  {
   "cell_type": "code",
   "execution_count": 10,
   "metadata": {},
   "outputs": [
    {
     "name": "stdout",
     "output_type": "stream",
     "text": [
      "SUCCESS---------SELECT List_ID FROM STMdataLists WHERE UpdateFilePath='../../../STMdata/20221116/Bias-Spectroscopy014.dat'\n",
      "SUCCESS---------SELECT TimeStamp FROM STMdataLists WHERE UpdateFilePath='../../../STMdata/20221116/Bias-Spectroscopy014.dat'\n",
      "SUCCESS---------SELECT List_ID FROM STMdataLists WHERE UpdateFilePath='../../../STMdata/20221116/Bias-Spectroscopy014.dat'\n",
      "SUCCESS---------SELECT Info_ID FROM STMSpecInfo WHERE List_ID='2'\n",
      "SUCCESS---------INSERT INTO STMSpecValue(Info_ID,List_ID,TIME_STAMP,Bias,Current_forward,Current_backward,LIY_1_omega_forward,LIY_1_omega_backward) VALUES(?,?,?,?,?,?,?,?) [1, 2, 1668567479.0, <memory at 0x17633e5c0>, <memory at 0x17633d240>, <memory at 0x17633e680>, <memory at 0x17633e380>, <memory at 0x17633e800>]\n",
      "Insert table is successed\n"
     ]
    }
   ],
   "source": [
    "specValue=myspec.get_data_value()\n",
    "mydatabse.insert_specValue_table(STMdateList=specValue)"
   ]
  },
  {
   "cell_type": "code",
   "execution_count": 11,
   "metadata": {},
   "outputs": [],
   "source": [
    "myDir=\"../../../STMdata\"\n",
    "myFolder=\"20221116\"\n",
    "myfileNane=\"Grid Spectroscopy014.3ds\"\n",
    "filePath=join(myDir,myFolder,myfileNane)\n",
    "mygrid=STMgrid(filePath=filePath)"
   ]
  },
  {
   "cell_type": "code",
   "execution_count": 12,
   "metadata": {},
   "outputs": [
    {
     "name": "stdout",
     "output_type": "stream",
     "text": [
      "SUCCESS---------INSERT INTO STMdataLists(Name,TimeStamp,UpdateFilePath,Date,Time,Bias_V,Current_pA,Type,PosX_nm,PosY_nm) VALUES(?,?,?,?,?,?,?,?,?,?) ['Grid Spectroscopy014', 1668918540.0, '../../../STMdata/20221116/Grid Spectroscopy014.3ds', '20.11.2022', '15:29:00', 0.0, 0.0, '3ds', 518.673, -510.338]\n",
      "Insert table is successed\n"
     ]
    }
   ],
   "source": [
    "STM_grid_List=mygrid.get_data_list()\n",
    "mydatabse.insert_list_table(STMdateList=STM_grid_List)"
   ]
  },
  {
   "cell_type": "code",
   "execution_count": 13,
   "metadata": {},
   "outputs": [
    {
     "name": "stdout",
     "output_type": "stream",
     "text": [
      "SUCCESS---------SELECT List_ID FROM STMdataLists WHERE UpdateFilePath='../../../STMdata/20221116/Grid Spectroscopy014.3ds'\n",
      "SUCCESS---------SELECT TimeStamp FROM STMdataLists WHERE UpdateFilePath='../../../STMdata/20221116/Grid Spectroscopy014.3ds'\n",
      "SUCCESS---------INSERT INTO STMGridInfo(List_ID,TIME_STAMP,Grid_dim,Grid_settings,Filetype,Sweep_Signal,Fixed_parameters,Experiment_parameters,Parameters, Experiment_size,Points,Channels,Delay,Experiment,Start_time,End_time,User,comment,Current,Calibration,Offset,Gain) VALUES(?,?,?,?,?,?,?,?,?,?,?,?,?,?,?,?,?,?,?,?,?,?) [3, 1668918540.0, '\"85 x 85\"', '5.186733E-7;-5.103381E-7;1.000000E-8;1.000000E-8;0.000000E+0', 'Linear', '\"Bias (V)\"', '\"Sweep Start;Sweep End\"', '\"X (m);Y (m);Z (m);Z offset (m);Settling time (s);Integration time (s);Z-Ctrl hold;Final Z (m);Scan:Current (A);Scan:Z (m);Scan:LIX 1 omega (A);Scan:LIY 1 omega (A)\"', '14', '6144', '512', '\"Current (A);LIX 1 omega (A);LIY 1 omega (A)\"', '0.000000E+0', '\"Grid Spectroscopy\"', '\"20.11.2022 15:29:00\"', '\"21.11.2022 08:51:08\"', '', '\"SiC\\\\0Agrid 85\"', '-82.5716E-12', '999.99900E-12', '0E+0', 'n/a']\n",
      "Insert table is successed\n"
     ]
    }
   ],
   "source": [
    "STM_gridInfo=mygrid.get_data_info()\n",
    "mydatabse.insert_gridInfo_table(STMdateList=STM_gridInfo)"
   ]
  },
  {
   "cell_type": "code",
   "execution_count": 14,
   "metadata": {},
   "outputs": [
    {
     "name": "stdout",
     "output_type": "stream",
     "text": [
      "SUCCESS---------SELECT List_ID FROM STMdataLists WHERE UpdateFilePath='../../../STMdata/20221116/Grid Spectroscopy014.3ds'\n",
      "SUCCESS---------SELECT TimeStamp FROM STMdataLists WHERE UpdateFilePath='../../../STMdata/20221116/Grid Spectroscopy014.3ds'\n",
      "SUCCESS---------SELECT List_ID FROM STMdataLists WHERE UpdateFilePath='../../../STMdata/20221116/Grid Spectroscopy014.3ds'\n",
      "SUCCESS---------SELECT Info_ID FROM STMGridInfo WHERE List_ID='3'\n",
      "{'Info_ID': 1, 'List_ID': 3, 'TIME_STAMP': 1668918540.0, 'Para': <memory at 0x17633eb00>, 'Current': <memory at 0x17633ec80>, 'Bias': <memory at 0x17633ebc0>, 'LIX_1_omega': <memory at 0x17633ed40>, 'LIY_1_omega': <memory at 0x17633ee00>}\n",
      "SUCCESS---------INSERT INTO STMGridValue(Info_ID,List_ID,TIME_STAMP,Para,Current,Bias,LIX_1_omega,LIY_1_omega) VALUES(?,?,?,?,?,?,?,?) [1, 3, 1668918540.0, <memory at 0x17633eb00>, <memory at 0x17633ec80>, <memory at 0x17633ebc0>, <memory at 0x17633ed40>, <memory at 0x17633ee00>]\n",
      "Insert table is successed\n"
     ]
    }
   ],
   "source": [
    "gridValue=mygrid.get_data_value()\n",
    "print(gridValue)\n",
    "mydatabse.insert_gridValue_table(STMdateList=gridValue)"
   ]
  },
  {
   "cell_type": "code",
   "execution_count": null,
   "metadata": {},
   "outputs": [],
   "source": []
  }
 ],
 "metadata": {
  "kernelspec": {
   "display_name": "Python 3",
   "language": "python",
   "name": "python3"
  },
  "language_info": {
   "codemirror_mode": {
    "name": "ipython",
    "version": 3
   },
   "file_extension": ".py",
   "mimetype": "text/x-python",
   "name": "python",
   "nbconvert_exporter": "python",
   "pygments_lexer": "ipython3",
   "version": "3.11.2"
  },
  "orig_nbformat": 4
 },
 "nbformat": 4,
 "nbformat_minor": 2
}
