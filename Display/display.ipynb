{
 "cells": [
  {
   "cell_type": "code",
   "execution_count": 1,
   "metadata": {},
   "outputs": [],
   "source": [
    "import sqlite3\n",
    "import numpy as np\n",
    "import matplotlib.pyplot as plt\n",
    "%matplotlib inline"
   ]
  },
  {
   "cell_type": "code",
   "execution_count": 13,
   "metadata": {},
   "outputs": [
    {
     "ename": "IndexError",
     "evalue": "list index out of range",
     "output_type": "error",
     "traceback": [
      "\u001b[0;31m---------------------------------------------------------------------------\u001b[0m",
      "\u001b[0;31mIndexError\u001b[0m                                Traceback (most recent call last)",
      "Cell \u001b[0;32mIn[13], line 14\u001b[0m\n\u001b[1;32m     12\u001b[0m         data\u001b[39m=\u001b[39mc\u001b[39m.\u001b[39mexecute(sql)\n\u001b[1;32m     13\u001b[0m         blob_data\u001b[39m=\u001b[39mdata\u001b[39m.\u001b[39mfetchall()[\u001b[39m0\u001b[39m][\u001b[39m0\u001b[39m] \n\u001b[0;32m---> 14\u001b[0m Z_forward\u001b[39m=\u001b[39mnp\u001b[39m.\u001b[39mfrombuffer(blob_data, dtype\u001b[39m=\u001b[39m\u001b[39mfloat\u001b[39m)\u001b[39m.\u001b[39mreshape((pix[\u001b[39m0\u001b[39m], pix[\u001b[39m1\u001b[39;49m]))\n\u001b[1;32m     15\u001b[0m sql\u001b[39m=\u001b[39m\u001b[39m\"\u001b[39m\u001b[39mSELECT Z_backward from STMimageValue\u001b[39m\u001b[39m\"\u001b[39m\n\u001b[1;32m     16\u001b[0m \u001b[39mwith\u001b[39;00m sqlite3\u001b[39m.\u001b[39mconnect(database) \u001b[39mas\u001b[39;00m conn:\n",
      "\u001b[0;31mIndexError\u001b[0m: list index out of range"
     ]
    }
   ],
   "source": [
    "database=\"../../STMdata.db\"\n",
    "sql=\"SELECT Z_forward from STMimageValue\"\n",
    "sql_pix=\"SELECT SCAN_PIXELS from STMimageInfo\"\n",
    "with sqlite3.connect(database) as conn:\n",
    "        c = conn.cursor()\n",
    "        data=c.execute(sql_pix)\n",
    "        Pix_s=data.fetchone()[0][0] \n",
    "\n",
    "pix=[int(x) for x in Pix_s.split(\" \") ]\n",
    "with sqlite3.connect(database) as conn:\n",
    "        c = conn.cursor()\n",
    "        data=c.execute(sql)\n",
    "        blob_data=data.fetchall()[0][0] \n",
    "Z_forward=np.frombuffer(blob_data, dtype=float).reshape((pix[0], pix[1]))\n",
    "sql=\"SELECT Z_backward from STMimageValue\"\n",
    "with sqlite3.connect(database) as conn:\n",
    "        c = conn.cursor()\n",
    "        data=c.execute(sql)\n",
    "        blob_data=data.fetchall()[0]  \n",
    "Z_backward=np.frombuffer(blob_data, dtype=np.float64).reshape((pix[0], pix[1]))"
   ]
  }
 ],
 "metadata": {
  "kernelspec": {
   "display_name": "Python 3",
   "language": "python",
   "name": "python3"
  },
  "language_info": {
   "codemirror_mode": {
    "name": "ipython",
    "version": 3
   },
   "file_extension": ".py",
   "mimetype": "text/x-python",
   "name": "python",
   "nbconvert_exporter": "python",
   "pygments_lexer": "ipython3",
   "version": "3.11.2"
  },
  "orig_nbformat": 4
 },
 "nbformat": 4,
 "nbformat_minor": 2
}
